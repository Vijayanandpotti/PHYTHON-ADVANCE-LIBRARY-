{
 "cells": [
  {
   "cell_type": "markdown",
   "id": "5f2def50-504f-4e42-b590-066d9469fa0a",
   "metadata": {},
   "source": [
    "# NUMPY"
   ]
  },
  {
   "cell_type": "code",
   "execution_count": 1,
   "id": "c6bed739-9d15-4b60-bfd7-84346b69925b",
   "metadata": {},
   "outputs": [],
   "source": [
    "import numpy as np"
   ]
  },
  {
   "cell_type": "code",
   "execution_count": 2,
   "id": "c81761d2-0ddd-4989-ae12-1536c8f64e14",
   "metadata": {},
   "outputs": [
    {
     "data": {
      "text/plain": [
       "'1.26.4'"
      ]
     },
     "execution_count": 2,
     "metadata": {},
     "output_type": "execute_result"
    }
   ],
   "source": [
    "np.__version__ # this code is to check numpy version (double undersocre)"
   ]
  },
  {
   "cell_type": "code",
   "execution_count": 3,
   "id": "360193f4-5a1d-4bd5-97c9-18441434b62e",
   "metadata": {},
   "outputs": [
    {
     "data": {
      "text/plain": [
       "'3.12.4 | packaged by Anaconda, Inc. | (main, Jun 18 2024, 15:03:56) [MSC v.1929 64 bit (AMD64)]'"
      ]
     },
     "execution_count": 3,
     "metadata": {},
     "output_type": "execute_result"
    }
   ],
   "source": [
    "import sys\n",
    "sys.version"
   ]
  },
  {
   "cell_type": "markdown",
   "id": "090a5853-1efd-4839-b835-1e2872f162b7",
   "metadata": {},
   "source": [
    "# Creating Arrays"
   ]
  },
  {
   "cell_type": "code",
   "execution_count": 4,
   "id": "7417b732-3a78-4026-9acb-00c5c0ed9260",
   "metadata": {},
   "outputs": [
    {
     "data": {
      "text/plain": [
       "[0, 1, 2, 3, 4, 5]"
      ]
     },
     "execution_count": 4,
     "metadata": {},
     "output_type": "execute_result"
    }
   ],
   "source": [
    "my_list = [0,1,2,3,4,5]\n",
    "my_list"
   ]
  },
  {
   "cell_type": "code",
   "execution_count": 5,
   "id": "a846e5eb-f391-4f07-981b-63b568a2ba58",
   "metadata": {},
   "outputs": [
    {
     "data": {
      "text/plain": [
       "list"
      ]
     },
     "execution_count": 5,
     "metadata": {},
     "output_type": "execute_result"
    }
   ],
   "source": [
    "type(my_list)"
   ]
  },
  {
   "cell_type": "code",
   "execution_count": 6,
   "id": "39831b89-1973-4733-b242-93e09d44cca8",
   "metadata": {},
   "outputs": [],
   "source": [
    "arr = np.array(my_list) # this code is to convert list to array\n",
    "                        # create new variable and following code\n"
   ]
  },
  {
   "cell_type": "code",
   "execution_count": 7,
   "id": "8c869473-484e-4cfc-b72e-949ca7c27ea0",
   "metadata": {},
   "outputs": [
    {
     "data": {
      "text/plain": [
       "numpy.ndarray"
      ]
     },
     "execution_count": 7,
     "metadata": {},
     "output_type": "execute_result"
    }
   ],
   "source": [
    "type(arr)"
   ]
  },
  {
   "cell_type": "raw",
   "id": "bd961cc8-4e90-4298-a7a2-02c1eb97024f",
   "metadata": {},
   "source": [
    "Numpy has 217 inbuilt functions \n"
   ]
  },
  {
   "cell_type": "markdown",
   "id": "9ab10fc2-4150-4e87-bf4c-a172fec4ea89",
   "metadata": {},
   "source": [
    "# arange  function\n",
    "# start, stop, step"
   ]
  },
  {
   "cell_type": "raw",
   "id": "3048ac63-f064-4cf8-97c6-6a26bb69c88a",
   "metadata": {},
   "source": [
    "WITHOUT VARIABLE"
   ]
  },
  {
   "cell_type": "code",
   "execution_count": 8,
   "id": "ecb40423-2e0a-4aa3-883a-b48fef7f0443",
   "metadata": {},
   "outputs": [
    {
     "data": {
      "text/plain": [
       "array([ 0,  1,  2,  3,  4,  5,  6,  7,  8,  9, 10, 11, 12, 13, 14])"
      ]
     },
     "execution_count": 8,
     "metadata": {},
     "output_type": "execute_result"
    }
   ],
   "source": [
    "np.arange(15)  #  15 INTEGER DATA TYPE"
   ]
  },
  {
   "cell_type": "markdown",
   "id": "556471a0-195c-4ba2-bf84-110a8075addf",
   "metadata": {},
   "source": [
    "- #### The above output show from 0 to 14, the arrange functon  will arange the values till the mentioned number"
   ]
  },
  {
   "cell_type": "code",
   "execution_count": 9,
   "id": "574c7a01-80e9-4c49-9137-d3415ffa9f47",
   "metadata": {},
   "outputs": [
    {
     "data": {
      "text/plain": [
       "array([0., 1., 2.])"
      ]
     },
     "execution_count": 9,
     "metadata": {},
     "output_type": "execute_result"
    }
   ],
   "source": [
    "np.arange(3.0) # 3.0 IS FLOAT DATA TYPE"
   ]
  },
  {
   "cell_type": "code",
   "execution_count": 10,
   "id": "566654a1-1e21-4be7-8ed7-5915b9b31a0a",
   "metadata": {},
   "outputs": [
    {
     "data": {
      "text/plain": [
       "array([0, 1, 2, 3, 4, 5, 6, 7, 8, 9])"
      ]
     },
     "execution_count": 10,
     "metadata": {},
     "output_type": "execute_result"
    }
   ],
   "source": [
    "np.arange(10) "
   ]
  },
  {
   "cell_type": "code",
   "execution_count": 11,
   "id": "efb50884-cf4f-4cca-85c8-4132478e0810",
   "metadata": {},
   "outputs": [
    {
     "data": {
      "text/plain": [
       "array([0, 1, 2, 3, 4])"
      ]
     },
     "execution_count": 11,
     "metadata": {},
     "output_type": "execute_result"
    }
   ],
   "source": [
    "np.arange(0,5) # two arguments"
   ]
  },
  {
   "cell_type": "code",
   "execution_count": 12,
   "id": "71b7b3d5-2f1c-456d-8b95-f1cc3a3bea4e",
   "metadata": {},
   "outputs": [
    {
     "data": {
      "text/plain": [
       "array([10, 11, 12, 13, 14, 15, 16, 17, 18, 19])"
      ]
     },
     "execution_count": 12,
     "metadata": {},
     "output_type": "execute_result"
    }
   ],
   "source": [
    "np.arange(10,20) "
   ]
  },
  {
   "cell_type": "markdown",
   "id": "245ec0cd-dd1a-4290-ac20-03b9241469a8",
   "metadata": {},
   "source": [
    "- #### in two arguments arange function starts from the first argument and end second argument value(n-1)"
   ]
  },
  {
   "cell_type": "code",
   "execution_count": 13,
   "id": "21daf729-c5da-4d59-a21c-bd6d0b6880de",
   "metadata": {},
   "outputs": [
    {
     "data": {
      "text/plain": [
       "array([], dtype=int32)"
      ]
     },
     "execution_count": 13,
     "metadata": {},
     "output_type": "execute_result"
    }
   ],
   "source": [
    "np.arange(20,10)"
   ]
  },
  {
   "cell_type": "markdown",
   "id": "a0824395-df94-4b42-8420-c9fd9489c6ed",
   "metadata": {},
   "source": [
    "- #### The above output showing as error(empty error) because, the first argument is greater that second  argument.\n",
    "\n",
    "- #### The numpy cannot allow arnage function because first argument value is greater than second argument."
   ]
  },
  {
   "cell_type": "code",
   "execution_count": 14,
   "id": "66d3441a-abca-49a6-8edc-addb2b4a32b7",
   "metadata": {},
   "outputs": [
    {
     "data": {
      "text/plain": [
       "array([-20, -19, -18, -17, -16, -15, -14, -13, -12, -11, -10,  -9,  -8,\n",
       "        -7,  -6,  -5,  -4,  -3,  -2,  -1,   0,   1,   2,   3,   4,   5,\n",
       "         6,   7,   8,   9])"
      ]
     },
     "execution_count": 14,
     "metadata": {},
     "output_type": "execute_result"
    }
   ],
   "source": [
    "np.arange(-20,10)"
   ]
  },
  {
   "cell_type": "code",
   "execution_count": 15,
   "id": "a4ef1e34-5ab5-4d70-a7df-0631de628e69",
   "metadata": {},
   "outputs": [
    {
     "data": {
      "text/plain": [
       "array([-16, -15, -14, -13, -12, -11, -10,  -9,  -8,  -7,  -6,  -5,  -4,\n",
       "        -3,  -2,  -1,   0,   1,   2,   3,   4,   5,   6,   7,   8,   9])"
      ]
     },
     "execution_count": 15,
     "metadata": {},
     "output_type": "execute_result"
    }
   ],
   "source": [
    "np.arange(-16,10)"
   ]
  },
  {
   "cell_type": "code",
   "execution_count": 16,
   "id": "52fe3125-ab46-4b1b-b0d4-a66b4885026e",
   "metadata": {},
   "outputs": [
    {
     "data": {
      "text/plain": [
       "array([-20, -19, -18, -17, -16, -15, -14, -13, -12, -11])"
      ]
     },
     "execution_count": 16,
     "metadata": {},
     "output_type": "execute_result"
    }
   ],
   "source": [
    "np.arange(-20,-10)"
   ]
  },
  {
   "cell_type": "raw",
   "id": "42613940-bb1e-4b74-9664-537a221c81a4",
   "metadata": {},
   "source": [
    "WITH VARIABLE"
   ]
  },
  {
   "cell_type": "code",
   "execution_count": 17,
   "id": "ee56edae-d58e-48fc-b898-890d05f607e2",
   "metadata": {},
   "outputs": [
    {
     "data": {
      "text/plain": [
       "array([-30, -29, -28, -27, -26, -25, -24, -23, -22, -21, -20, -19, -18,\n",
       "       -17, -16, -15, -14, -13, -12, -11, -10,  -9,  -8,  -7,  -6,  -5,\n",
       "        -4,  -3,  -2,  -1,   0,   1,   2,   3,   4,   5,   6,   7,   8,\n",
       "         9,  10,  11,  12,  13,  14,  15,  16,  17,  18,  19])"
      ]
     },
     "execution_count": 17,
     "metadata": {},
     "output_type": "execute_result"
    }
   ],
   "source": [
    "ar = np.arange(-30,20) # to optimise the code we crearte variable\n",
    "ar"
   ]
  },
  {
   "cell_type": "code",
   "execution_count": 18,
   "id": "a44fca17-ad56-48e8-ba1d-a975b20373da",
   "metadata": {},
   "outputs": [
    {
     "data": {
      "text/plain": [
       "array([], dtype=int32)"
      ]
     },
     "execution_count": 18,
     "metadata": {},
     "output_type": "execute_result"
    }
   ],
   "source": [
    "np.arange(10,10)"
   ]
  },
  {
   "cell_type": "markdown",
   "id": "43ad7485-fdba-4e76-92a8-e93fda9476af",
   "metadata": {},
   "source": [
    "- #### The above output showing as error(empty error) because, the first argument is equal to second  argument.\n",
    "\n",
    "- #### The arange function allows atleat one argument or two arguments or three argument\n",
    "\n",
    "- #### the arange argument cannot be more than 3 arguments\n"
   ]
  },
  {
   "cell_type": "code",
   "execution_count": 19,
   "id": "c8f57ebb-3406-4eaa-bcfa-fb4e6398b1e3",
   "metadata": {},
   "outputs": [
    {
     "data": {
      "text/plain": [
       "array([10, 15, 20, 25])"
      ]
     },
     "execution_count": 19,
     "metadata": {},
     "output_type": "execute_result"
    }
   ],
   "source": [
    "np.arange(10,30,5) # 10 is first argument\n",
    "                   # 30 is second argument\n",
    "                   # 5 is step "
   ]
  },
  {
   "cell_type": "code",
   "execution_count": 20,
   "id": "c64a7d23-f48a-4bc5-aa80-ce034745d5aa",
   "metadata": {},
   "outputs": [
    {
     "data": {
      "text/plain": [
       "array([0, 3, 6, 9])"
      ]
     },
     "execution_count": 20,
     "metadata": {},
     "output_type": "execute_result"
    }
   ],
   "source": [
    "np.arange(0,10,3)"
   ]
  },
  {
   "cell_type": "code",
   "execution_count": 21,
   "id": "40c00d76-7b20-4610-ab46-9db5958c87db",
   "metadata": {},
   "outputs": [
    {
     "ename": "TypeError",
     "evalue": "Cannot interpret '5' as a data type",
     "output_type": "error",
     "traceback": [
      "\u001b[1;31m---------------------------------------------------------------------------\u001b[0m",
      "\u001b[1;31mTypeError\u001b[0m                                 Traceback (most recent call last)",
      "Cell \u001b[1;32mIn[21], line 1\u001b[0m\n\u001b[1;32m----> 1\u001b[0m np\u001b[38;5;241m.\u001b[39marange(\u001b[38;5;241m0\u001b[39m,\u001b[38;5;241m10\u001b[39m,\u001b[38;5;241m3\u001b[39m,\u001b[38;5;241m5\u001b[39m)\n",
      "\u001b[1;31mTypeError\u001b[0m: Cannot interpret '5' as a data type"
     ]
    }
   ],
   "source": [
    "np.arange(0,10,3,5)"
   ]
  },
  {
   "cell_type": "markdown",
   "id": "eeac3769-12a2-48c3-8741-ad576ced4317",
   "metadata": {},
   "source": [
    "-  #### The above output is showing as error because the arange function cannot allow 4 argunment only 3 arguments"
   ]
  },
  {
   "cell_type": "markdown",
   "id": "0dc29207-32db-416b-8e24-23d5751259ff",
   "metadata": {},
   "source": [
    "# Zeros function\n",
    "# shape, dtype = float, order, link"
   ]
  },
  {
   "cell_type": "code",
   "execution_count": 22,
   "id": "0f257579-1b01-404a-8866-9fa7707cbefe",
   "metadata": {},
   "outputs": [
    {
     "data": {
      "text/plain": [
       "array([0., 0., 0.])"
      ]
     },
     "execution_count": 22,
     "metadata": {},
     "output_type": "execute_result"
    }
   ],
   "source": [
    "np.zeros(3) # parameter tunning"
   ]
  },
  {
   "cell_type": "markdown",
   "id": "c8445167-f9cf-4420-8ae4-6558fae5449d",
   "metadata": {},
   "source": [
    "- #### The above output shows all zeros in float, because system by default shows zeros in float data type\n",
    "\n",
    "- #### This process is called as parameter tunning.\n",
    "\n",
    "- ####  To convert float zeros into integer zero, see below"
   ]
  },
  {
   "cell_type": "code",
   "execution_count": 23,
   "id": "16ec8c2b-d125-404d-9cb3-3e9de77deb50",
   "metadata": {},
   "outputs": [
    {
     "data": {
      "text/plain": [
       "array([0, 0, 0, 0, 0])"
      ]
     },
     "execution_count": 23,
     "metadata": {},
     "output_type": "execute_result"
    }
   ],
   "source": [
    "np.zeros(5, dtype = int) # conversion of float zeros to integer zeros\n",
    "                         # hyperparameter tunning\n",
    "                         # one dimension  array"
   ]
  },
  {
   "cell_type": "markdown",
   "id": "5a1448fc-0c8f-4fe7-8140-d0a150c0fe94",
   "metadata": {},
   "source": [
    "- #### The process of changing the float zeros to integer zeros is know as hyperparemeter tunning\n",
    "\n",
    "- #### in large language model we call it as finetune"
   ]
  },
  {
   "cell_type": "code",
   "execution_count": 24,
   "id": "933486b6-eec4-486c-a729-c1645b400834",
   "metadata": {},
   "outputs": [
    {
     "data": {
      "text/plain": [
       "array([[0, 0],\n",
       "       [0, 0]])"
      ]
     },
     "execution_count": 24,
     "metadata": {},
     "output_type": "execute_result"
    }
   ],
   "source": [
    "np.zeros((2,2), dtype = int) # two rows and two coloums\n",
    "                             # two dimensions array\n",
    "                        "
   ]
  },
  {
   "cell_type": "code",
   "execution_count": 25,
   "id": "ec983e66-eda9-4ab2-920c-9c4f3852b35f",
   "metadata": {},
   "outputs": [
    {
     "name": "stdout",
     "output_type": "stream",
     "text": [
      "[[0. 0.]\n",
      " [0. 0.]]\n",
      "<class 'numpy.ndarray'>\n"
     ]
    }
   ],
   "source": [
    "zero = np.zeros([2,2])\n",
    "print(zero)\n",
    "print(type(zero))"
   ]
  },
  {
   "cell_type": "code",
   "execution_count": 26,
   "id": "21ccd138-c5cb-41f8-9d3b-d3a567a2c76d",
   "metadata": {},
   "outputs": [
    {
     "name": "stdout",
     "output_type": "stream",
     "text": [
      "[[0. 0.]\n",
      " [0. 0.]]\n",
      "####\n",
      "<class 'numpy.ndarray'>\n"
     ]
    }
   ],
   "source": [
    "zero = np.zeros([2,2])\n",
    "print(zero)\n",
    "\n",
    "print('####')\n",
    "print(type(zero))"
   ]
  },
  {
   "cell_type": "code",
   "execution_count": 27,
   "id": "01ce7e44-9e04-46a8-8e07-022bc8f5656e",
   "metadata": {},
   "outputs": [
    {
     "name": "stdout",
     "output_type": "stream",
     "text": [
      "[[0 0]\n",
      " [0 0]]\n",
      "####\n",
      "<class 'numpy.ndarray'>\n"
     ]
    }
   ],
   "source": [
    "zero = np.zeros([2,2], dtype = int) # integer zeros\n",
    "print(zero)\n",
    "\n",
    "print('####')\n",
    "print(type(zero))"
   ]
  },
  {
   "cell_type": "code",
   "execution_count": 28,
   "id": "8b3e1a4e-a2fb-4c7d-a01d-4bbd237279ff",
   "metadata": {},
   "outputs": [
    {
     "data": {
      "text/plain": [
       "array([[0., 0., 0., 0., 0., 0., 0., 0., 0., 0.],\n",
       "       [0., 0., 0., 0., 0., 0., 0., 0., 0., 0.]])"
      ]
     },
     "execution_count": 28,
     "metadata": {},
     "output_type": "execute_result"
    }
   ],
   "source": [
    "np.zeros((2,10)) # 2 means row (left)\n",
    "                 # 10 means columns (right)"
   ]
  },
  {
   "cell_type": "code",
   "execution_count": 29,
   "id": "c8546a09-dd07-4708-9bca-2aa5810a1aaa",
   "metadata": {},
   "outputs": [
    {
     "data": {
      "text/plain": [
       "array([[0., 0., 0., 0., 0., 0., 0., 0., 0., 0., 0., 0., 0., 0., 0., 0.,\n",
       "        0., 0., 0., 0., 0., 0., 0., 0., 0., 0., 0., 0., 0., 0.],\n",
       "       [0., 0., 0., 0., 0., 0., 0., 0., 0., 0., 0., 0., 0., 0., 0., 0.,\n",
       "        0., 0., 0., 0., 0., 0., 0., 0., 0., 0., 0., 0., 0., 0.],\n",
       "       [0., 0., 0., 0., 0., 0., 0., 0., 0., 0., 0., 0., 0., 0., 0., 0.,\n",
       "        0., 0., 0., 0., 0., 0., 0., 0., 0., 0., 0., 0., 0., 0.],\n",
       "       [0., 0., 0., 0., 0., 0., 0., 0., 0., 0., 0., 0., 0., 0., 0., 0.,\n",
       "        0., 0., 0., 0., 0., 0., 0., 0., 0., 0., 0., 0., 0., 0.],\n",
       "       [0., 0., 0., 0., 0., 0., 0., 0., 0., 0., 0., 0., 0., 0., 0., 0.,\n",
       "        0., 0., 0., 0., 0., 0., 0., 0., 0., 0., 0., 0., 0., 0.],\n",
       "       [0., 0., 0., 0., 0., 0., 0., 0., 0., 0., 0., 0., 0., 0., 0., 0.,\n",
       "        0., 0., 0., 0., 0., 0., 0., 0., 0., 0., 0., 0., 0., 0.],\n",
       "       [0., 0., 0., 0., 0., 0., 0., 0., 0., 0., 0., 0., 0., 0., 0., 0.,\n",
       "        0., 0., 0., 0., 0., 0., 0., 0., 0., 0., 0., 0., 0., 0.],\n",
       "       [0., 0., 0., 0., 0., 0., 0., 0., 0., 0., 0., 0., 0., 0., 0., 0.,\n",
       "        0., 0., 0., 0., 0., 0., 0., 0., 0., 0., 0., 0., 0., 0.],\n",
       "       [0., 0., 0., 0., 0., 0., 0., 0., 0., 0., 0., 0., 0., 0., 0., 0.,\n",
       "        0., 0., 0., 0., 0., 0., 0., 0., 0., 0., 0., 0., 0., 0.],\n",
       "       [0., 0., 0., 0., 0., 0., 0., 0., 0., 0., 0., 0., 0., 0., 0., 0.,\n",
       "        0., 0., 0., 0., 0., 0., 0., 0., 0., 0., 0., 0., 0., 0.]])"
      ]
     },
     "execution_count": 29,
     "metadata": {},
     "output_type": "execute_result"
    }
   ],
   "source": [
    "np.zeros((10,30))"
   ]
  },
  {
   "cell_type": "code",
   "execution_count": 30,
   "id": "c98a4eb1-bc65-4075-b048-89332806ef4f",
   "metadata": {},
   "outputs": [
    {
     "name": "stdout",
     "output_type": "stream",
     "text": [
      "[[0. 0. 0. 0. 0. 0. 0.]\n",
      " [0. 0. 0. 0. 0. 0. 0.]\n",
      " [0. 0. 0. 0. 0. 0. 0.]\n",
      " [0. 0. 0. 0. 0. 0. 0.]\n",
      " [0. 0. 0. 0. 0. 0. 0.]\n",
      " [0. 0. 0. 0. 0. 0. 0.]]\n"
     ]
    }
   ],
   "source": [
    "n = (6,7)\n",
    "n1 = (6,8)\n",
    "print(np.zeros(n))"
   ]
  },
  {
   "cell_type": "code",
   "execution_count": 31,
   "id": "88fde2a9-15fb-4134-9bb0-a0cd45884507",
   "metadata": {},
   "outputs": [
    {
     "name": "stdout",
     "output_type": "stream",
     "text": [
      "[[0 0 0 0 0 0 0]\n",
      " [0 0 0 0 0 0 0]\n",
      " [0 0 0 0 0 0 0]\n",
      " [0 0 0 0 0 0 0]\n",
      " [0 0 0 0 0 0 0]\n",
      " [0 0 0 0 0 0 0]]\n"
     ]
    }
   ],
   "source": [
    "print(np.zeros(n, dtype = int))"
   ]
  },
  {
   "cell_type": "code",
   "execution_count": 32,
   "id": "685ba9f6-e604-438a-b5c4-f118a853eed6",
   "metadata": {},
   "outputs": [
    {
     "name": "stdout",
     "output_type": "stream",
     "text": [
      "<class 'tuple'>\n"
     ]
    }
   ],
   "source": [
    "print(type(n))"
   ]
  },
  {
   "cell_type": "markdown",
   "id": "b0ebffcd-4544-4ea3-9d4c-525e37319000",
   "metadata": {},
   "source": [
    "# ones function  \n",
    "# shape, dtype = float, order, link"
   ]
  },
  {
   "cell_type": "code",
   "execution_count": 33,
   "id": "7b14bee6-498a-47b6-b7b6-941555a1a4f0",
   "metadata": {},
   "outputs": [
    {
     "data": {
      "text/plain": [
       "array([1., 1., 1.])"
      ]
     },
     "execution_count": 33,
     "metadata": {},
     "output_type": "execute_result"
    }
   ],
   "source": [
    "np.ones(3)"
   ]
  },
  {
   "cell_type": "code",
   "execution_count": 34,
   "id": "82b95744-7c74-4de8-b8e6-2b90bb900023",
   "metadata": {},
   "outputs": [
    {
     "data": {
      "text/plain": [
       "array([1, 1, 1, 1])"
      ]
     },
     "execution_count": 34,
     "metadata": {},
     "output_type": "execute_result"
    }
   ],
   "source": [
    "np.ones(4, dtype=int) # conversion to integer"
   ]
  },
  {
   "cell_type": "code",
   "execution_count": 35,
   "id": "babe476a-e514-4aea-9496-20ae7e9a480a",
   "metadata": {},
   "outputs": [
    {
     "data": {
      "text/plain": [
       "array([1., 1., 1., 1.])"
      ]
     },
     "execution_count": 35,
     "metadata": {},
     "output_type": "execute_result"
    }
   ],
   "source": [
    "np.ones(4)"
   ]
  },
  {
   "cell_type": "code",
   "execution_count": 36,
   "id": "32883106-cfc3-45df-a6e2-82ad98660858",
   "metadata": {},
   "outputs": [
    {
     "data": {
      "text/plain": [
       "array([[1., 1., 1., 1.],\n",
       "       [1., 1., 1., 1.],\n",
       "       [1., 1., 1., 1.],\n",
       "       [1., 1., 1., 1.],\n",
       "       [1., 1., 1., 1.]])"
      ]
     },
     "execution_count": 36,
     "metadata": {},
     "output_type": "execute_result"
    }
   ],
   "source": [
    "np.ones((5,4)) # float"
   ]
  },
  {
   "cell_type": "code",
   "execution_count": 37,
   "id": "74a7a9f8-efb8-4c8c-af81-147656b2625e",
   "metadata": {},
   "outputs": [
    {
     "data": {
      "text/plain": [
       "array([[1, 1, 1, 1],\n",
       "       [1, 1, 1, 1],\n",
       "       [1, 1, 1, 1],\n",
       "       [1, 1, 1, 1],\n",
       "       [1, 1, 1, 1]])"
      ]
     },
     "execution_count": 37,
     "metadata": {},
     "output_type": "execute_result"
    }
   ],
   "source": [
    "np.ones((5,4), dtype = int) # integer"
   ]
  },
  {
   "cell_type": "code",
   "execution_count": 38,
   "id": "e41d662c-16ed-4f18-ab50-e42d1647627b",
   "metadata": {},
   "outputs": [
    {
     "ename": "AttributeError",
     "evalue": "module 'numpy' has no attribute 'twos'",
     "output_type": "error",
     "traceback": [
      "\u001b[1;31m---------------------------------------------------------------------------\u001b[0m",
      "\u001b[1;31mAttributeError\u001b[0m                            Traceback (most recent call last)",
      "Cell \u001b[1;32mIn[38], line 1\u001b[0m\n\u001b[1;32m----> 1\u001b[0m np\u001b[38;5;241m.\u001b[39mtwos(\u001b[38;5;241m5\u001b[39m,\u001b[38;5;241m6\u001b[39m)\n",
      "File \u001b[1;32m~\\anaconda3\\Lib\\site-packages\\numpy\\__init__.py:333\u001b[0m, in \u001b[0;36m__getattr__\u001b[1;34m(attr)\u001b[0m\n\u001b[0;32m    330\u001b[0m     \u001b[38;5;124m\"\u001b[39m\u001b[38;5;124mRemoved in NumPy 1.25.0\u001b[39m\u001b[38;5;124m\"\u001b[39m\n\u001b[0;32m    331\u001b[0m     \u001b[38;5;28;01mraise\u001b[39;00m \u001b[38;5;167;01mRuntimeError\u001b[39;00m(\u001b[38;5;124m\"\u001b[39m\u001b[38;5;124mTester was removed in NumPy 1.25.\u001b[39m\u001b[38;5;124m\"\u001b[39m)\n\u001b[1;32m--> 333\u001b[0m \u001b[38;5;28;01mraise\u001b[39;00m \u001b[38;5;167;01mAttributeError\u001b[39;00m(\u001b[38;5;124m\"\u001b[39m\u001b[38;5;124mmodule \u001b[39m\u001b[38;5;132;01m{!r}\u001b[39;00m\u001b[38;5;124m has no attribute \u001b[39m\u001b[38;5;124m\"\u001b[39m\n\u001b[0;32m    334\u001b[0m                      \u001b[38;5;124m\"\u001b[39m\u001b[38;5;132;01m{!r}\u001b[39;00m\u001b[38;5;124m\"\u001b[39m\u001b[38;5;241m.\u001b[39mformat(\u001b[38;5;18m__name__\u001b[39m, attr))\n",
      "\u001b[1;31mAttributeError\u001b[0m: module 'numpy' has no attribute 'twos'"
     ]
    }
   ],
   "source": [
    "np.twos(5,6)"
   ]
  },
  {
   "cell_type": "markdown",
   "id": "ae68b6e9-8ad0-41e2-9ee0-4e2cf381b40d",
   "metadata": {},
   "source": [
    "# twos function doesnt work in numpy, numpy allows only in-built function"
   ]
  },
  {
   "cell_type": "markdown",
   "id": "8d1066f2-08db-4fdf-9e40-c422ab499afb",
   "metadata": {},
   "source": [
    "# range function"
   ]
  },
  {
   "cell_type": "code",
   "execution_count": 39,
   "id": "b115d89a-de97-4ef1-84fb-62e3b4bcb528",
   "metadata": {},
   "outputs": [
    {
     "data": {
      "text/plain": [
       "range(0, 5)"
      ]
     },
     "execution_count": 39,
     "metadata": {},
     "output_type": "execute_result"
    }
   ],
   "source": [
    "range(5)"
   ]
  },
  {
   "cell_type": "code",
   "execution_count": 40,
   "id": "77ef2eaa-1235-4698-b3a8-7d5ef194753d",
   "metadata": {},
   "outputs": [
    {
     "data": {
      "text/plain": [
       "range(0, 5)"
      ]
     },
     "execution_count": 40,
     "metadata": {},
     "output_type": "execute_result"
    }
   ],
   "source": [
    "r = range(5)\n",
    "r"
   ]
  },
  {
   "cell_type": "code",
   "execution_count": 41,
   "id": "49707532-5089-4887-96d5-e7b884bcfdb1",
   "metadata": {},
   "outputs": [
    {
     "data": {
      "text/plain": [
       "[0, 1, 2, 3, 4]"
      ]
     },
     "execution_count": 41,
     "metadata": {},
     "output_type": "execute_result"
    }
   ],
   "source": [
    "list(range(5)) # to display the number list"
   ]
  },
  {
   "cell_type": "code",
   "execution_count": 42,
   "id": "10e29071-f923-4969-9568-6450225fa0c3",
   "metadata": {},
   "outputs": [
    {
     "data": {
      "text/plain": [
       "(0, 1, 2, 3, 4)"
      ]
     },
     "execution_count": 42,
     "metadata": {},
     "output_type": "execute_result"
    }
   ],
   "source": [
    "tuple(range(5)) # to display the number tuple"
   ]
  },
  {
   "cell_type": "code",
   "execution_count": 43,
   "id": "6165748c-70a7-4c98-96de-c8a890141b56",
   "metadata": {},
   "outputs": [
    {
     "name": "stdout",
     "output_type": "stream",
     "text": [
      "0\n",
      "1\n",
      "2\n",
      "3\n",
      "4\n"
     ]
    }
   ],
   "source": [
    "for i in r:\n",
    "    print(i)"
   ]
  },
  {
   "cell_type": "code",
   "execution_count": 44,
   "id": "9f78dc6d-8019-43d9-ba49-88c9a6877c8d",
   "metadata": {},
   "outputs": [
    {
     "data": {
      "text/plain": [
       "range(1, 10)"
      ]
     },
     "execution_count": 44,
     "metadata": {},
     "output_type": "execute_result"
    }
   ],
   "source": [
    "range(1,10)"
   ]
  },
  {
   "cell_type": "code",
   "execution_count": 45,
   "id": "5231e19e-fe79-4a50-8d18-b57a10a22893",
   "metadata": {},
   "outputs": [
    {
     "data": {
      "text/plain": [
       "[1, 2, 3, 4, 5, 6, 7, 8, 9]"
      ]
     },
     "execution_count": 45,
     "metadata": {},
     "output_type": "execute_result"
    }
   ],
   "source": [
    "list(range(1,10))"
   ]
  },
  {
   "cell_type": "code",
   "execution_count": 46,
   "id": "487c8956-d09a-4e9e-ab65-5bd8fc47979e",
   "metadata": {},
   "outputs": [
    {
     "data": {
      "text/plain": [
       "[1, 4, 7]"
      ]
     },
     "execution_count": 46,
     "metadata": {},
     "output_type": "execute_result"
    }
   ],
   "source": [
    "list(range(1,10,3)) # 1 means 1st argument\n",
    "                    # 10 means 2nd argument\n",
    "                    # 3 means step "
   ]
  },
  {
   "cell_type": "markdown",
   "id": "3ebad6cd-1173-4891-89e7-fc35b96b1f93",
   "metadata": {},
   "source": [
    "# rand function (Random function)"
   ]
  },
  {
   "cell_type": "code",
   "execution_count": 47,
   "id": "4265d984-23c0-4e18-b293-c0f4bb9bf247",
   "metadata": {},
   "outputs": [
    {
     "ename": "NameError",
     "evalue": "name 'rand' is not defined",
     "output_type": "error",
     "traceback": [
      "\u001b[1;31m---------------------------------------------------------------------------\u001b[0m",
      "\u001b[1;31mNameError\u001b[0m                                 Traceback (most recent call last)",
      "Cell \u001b[1;32mIn[47], line 1\u001b[0m\n\u001b[1;32m----> 1\u001b[0m rand(\u001b[38;5;241m3\u001b[39m,\u001b[38;5;241m2\u001b[39m)\n",
      "\u001b[1;31mNameError\u001b[0m: name 'rand' is not defined"
     ]
    }
   ],
   "source": [
    "rand(3,2)"
   ]
  },
  {
   "cell_type": "code",
   "execution_count": 48,
   "id": "6b0397cd-8a4a-4f25-bc21-05156372b83e",
   "metadata": {},
   "outputs": [
    {
     "ename": "NameError",
     "evalue": "name 'rand' is not defined",
     "output_type": "error",
     "traceback": [
      "\u001b[1;31m---------------------------------------------------------------------------\u001b[0m",
      "\u001b[1;31mNameError\u001b[0m                                 Traceback (most recent call last)",
      "Cell \u001b[1;32mIn[48], line 1\u001b[0m\n\u001b[1;32m----> 1\u001b[0m rand(\u001b[38;5;241m3\u001b[39m,\u001b[38;5;241m2\u001b[39m)\n\u001b[0;32m      2\u001b[0m random\u001b[38;5;241m.\u001b[39mrand(\u001b[38;5;241m3\u001b[39m,\u001b[38;5;241m2\u001b[39m)\n",
      "\u001b[1;31mNameError\u001b[0m: name 'rand' is not defined"
     ]
    }
   ],
   "source": [
    "rand(3,2)\n",
    "random.rand(3,2)"
   ]
  },
  {
   "cell_type": "markdown",
   "id": "2db4a25d-f821-4c35-a408-f1b3e4f5dc4a",
   "metadata": {},
   "source": [
    "- #### The above two output showing as error because rand is fucntion, to process the functon we required module, to porcess the module we require libraby (numpy)"
   ]
  },
  {
   "cell_type": "markdown",
   "id": "0b93d5fa-59af-4ca8-9303-f8a9ecb41446",
   "metadata": {},
   "source": [
    "`Rand fucntion`"
   ]
  },
  {
   "cell_type": "code",
   "execution_count": 49,
   "id": "77117086-8c32-46a0-903d-746db6080756",
   "metadata": {},
   "outputs": [
    {
     "data": {
      "text/plain": [
       "array([[0.23449226, 0.90275683],\n",
       "       [0.29431064, 0.16738819],\n",
       "       [0.77741888, 0.56446939]])"
      ]
     },
     "execution_count": 49,
     "metadata": {},
     "output_type": "execute_result"
    }
   ],
   "source": [
    "np.random.rand(3,2) # Three rows andt two columns"
   ]
  },
  {
   "cell_type": "markdown",
   "id": "7414538f-7d25-42b4-918a-3b5f6b180d30",
   "metadata": {},
   "source": [
    "- #### The above output keeps changing as you execute the code"
   ]
  },
  {
   "cell_type": "code",
   "execution_count": 50,
   "id": "f2807129-f3ea-43be-ab0c-05e44e1694b5",
   "metadata": {},
   "outputs": [
    {
     "data": {
      "text/plain": [
       "array([0.38405485, 0.83040018, 0.89769623, 0.57573996, 0.45229566])"
      ]
     },
     "execution_count": 50,
     "metadata": {},
     "output_type": "execute_result"
    }
   ],
   "source": [
    "np.random.rand(5)"
   ]
  },
  {
   "cell_type": "code",
   "execution_count": 51,
   "id": "864e82da-6a87-4adf-960e-d030d32e4cc6",
   "metadata": {},
   "outputs": [
    {
     "data": {
      "text/plain": [
       "array([[0.65161155, 0.89398736, 0.31237023, 0.3257627 ],\n",
       "       [0.16915494, 0.58927851, 0.48472193, 0.13763654]])"
      ]
     },
     "execution_count": 51,
     "metadata": {},
     "output_type": "execute_result"
    }
   ],
   "source": [
    "np.random.rand(2,4)"
   ]
  },
  {
   "cell_type": "markdown",
   "id": "2524ebf6-ba5b-4ae2-8005-e5712f56a5c5",
   "metadata": {},
   "source": [
    "`Randint function`"
   ]
  },
  {
   "cell_type": "code",
   "execution_count": 52,
   "id": "eae1dcfa-5152-4b7c-9ad9-98fb81043008",
   "metadata": {},
   "outputs": [
    {
     "data": {
      "text/plain": [
       "0"
      ]
     },
     "execution_count": 52,
     "metadata": {},
     "output_type": "execute_result"
    }
   ],
   "source": [
    "np.random.randint(4)"
   ]
  },
  {
   "cell_type": "markdown",
   "id": "77e07526-73ce-4530-a7fa-939aeeb1a00d",
   "metadata": {},
   "source": [
    "- #### The above output showing as 3 because the randint function allows to diplay value which is btween 0 to 4 but not 4 (mentiond value) it excludes maximun value."
   ]
  },
  {
   "cell_type": "code",
   "execution_count": 53,
   "id": "7c529053-21e7-4543-95f4-6d9c5327c617",
   "metadata": {},
   "outputs": [
    {
     "data": {
      "text/plain": [
       "3"
      ]
     },
     "execution_count": 53,
     "metadata": {},
     "output_type": "execute_result"
    }
   ],
   "source": [
    "np.random.randint(2,4)"
   ]
  },
  {
   "cell_type": "markdown",
   "id": "5a4bda66-f204-4a3b-b64f-7b9e425a2798",
   "metadata": {},
   "source": [
    "- #### The output changes it values as you execute code but only between 2 to 4 as metioned in the code"
   ]
  },
  {
   "cell_type": "code",
   "execution_count": 54,
   "id": "916e5cfe-c2bf-4d08-b02a-b05610d2ad8c",
   "metadata": {},
   "outputs": [
    {
     "data": {
      "text/plain": [
       "array([15, 19, 12])"
      ]
     },
     "execution_count": 54,
     "metadata": {},
     "output_type": "execute_result"
    }
   ],
   "source": [
    "np.random.randint(10,20,3)  # 3 means the output display 3 numbers "
   ]
  },
  {
   "cell_type": "code",
   "execution_count": 55,
   "id": "ae440a1f-e731-4780-9cce-1733b8a75399",
   "metadata": {},
   "outputs": [
    {
     "data": {
      "text/plain": [
       "array([12, 10, 12, 12])"
      ]
     },
     "execution_count": 55,
     "metadata": {},
     "output_type": "execute_result"
    }
   ],
   "source": [
    "np.random.randint(10,20,4) "
   ]
  },
  {
   "cell_type": "code",
   "execution_count": 56,
   "id": "b083037c-60dd-4f7a-b65d-36a9fc10b024",
   "metadata": {},
   "outputs": [
    {
     "data": {
      "text/plain": [
       "array([[33, 38, 18, 11, 16, 11, 14, 14, 11, 22],\n",
       "       [32, 22, 16, 12, 30, 34, 27, 33, 34, 22],\n",
       "       [27, 14, 11, 23, 27, 29, 19, 32, 38, 16],\n",
       "       [35, 27, 39, 37, 29, 38, 15, 25, 14, 24],\n",
       "       [23, 33, 28, 37, 24, 14, 30, 37, 24, 38],\n",
       "       [10, 31, 20, 26, 15, 19, 13, 13, 27, 11],\n",
       "       [38, 27, 31, 14, 24, 26, 29, 19, 32, 29],\n",
       "       [28, 38, 22, 29, 32, 11, 38, 14, 34, 11],\n",
       "       [30, 16, 29, 14, 31, 33, 37, 33, 24, 21],\n",
       "       [31, 33, 32, 18, 28, 26, 26, 13, 36, 13]])"
      ]
     },
     "execution_count": 56,
     "metadata": {},
     "output_type": "execute_result"
    }
   ],
   "source": [
    "np.random.randint(10,40,(10,10)) # 10 row and 10 columns"
   ]
  },
  {
   "cell_type": "code",
   "execution_count": 57,
   "id": "f49c3524-2695-4bb9-99e8-b629758ee55c",
   "metadata": {},
   "outputs": [
    {
     "data": {
      "text/plain": [
       "array([[32, 22, 26, 29, 31, 12],\n",
       "       [31, 38, 11, 29, 29, 14],\n",
       "       [32, 10, 32, 13, 26, 39],\n",
       "       [17, 25, 28, 14, 22, 26],\n",
       "       [36, 10, 17, 37, 23, 36]])"
      ]
     },
     "execution_count": 57,
     "metadata": {},
     "output_type": "execute_result"
    }
   ],
   "source": [
    "b = np.random.randint(10,40,(5,6))\n",
    "b # 5 rows and 6 columns"
   ]
  },
  {
   "cell_type": "code",
   "execution_count": 58,
   "id": "d87ac0d7-fa8b-41d7-9f19-4ca2d80bb3a0",
   "metadata": {},
   "outputs": [
    {
     "name": "stdout",
     "output_type": "stream",
     "text": [
      "<class 'numpy.ndarray'>\n"
     ]
    }
   ],
   "source": [
    "print(type(b))"
   ]
  },
  {
   "cell_type": "markdown",
   "id": "36ece1bc-294f-4cc5-9f35-423ca4970d54",
   "metadata": {},
   "source": [
    "# Slicing index in numpy"
   ]
  },
  {
   "cell_type": "code",
   "execution_count": 59,
   "id": "5dfd33e1-55ac-42f1-84ec-92f4416ee549",
   "metadata": {},
   "outputs": [
    {
     "data": {
      "text/plain": [
       "array([[32, 22, 26, 29, 31, 12],\n",
       "       [31, 38, 11, 29, 29, 14],\n",
       "       [32, 10, 32, 13, 26, 39],\n",
       "       [17, 25, 28, 14, 22, 26],\n",
       "       [36, 10, 17, 37, 23, 36]])"
      ]
     },
     "execution_count": 59,
     "metadata": {},
     "output_type": "execute_result"
    }
   ],
   "source": [
    "b[:]"
   ]
  },
  {
   "cell_type": "code",
   "execution_count": 60,
   "id": "f0df22a9-949d-415a-91f5-d63b22f65e75",
   "metadata": {},
   "outputs": [
    {
     "name": "stdout",
     "output_type": "stream",
     "text": [
      "(0, array([32, 22, 26, 29, 31, 12]))\n",
      "(1, array([31, 38, 11, 29, 29, 14]))\n",
      "(2, array([32, 10, 32, 13, 26, 39]))\n",
      "(3, array([17, 25, 28, 14, 22, 26]))\n",
      "(4, array([36, 10, 17, 37, 23, 36]))\n"
     ]
    }
   ],
   "source": [
    "for i in enumerate(b):\n",
    "    print(i)"
   ]
  },
  {
   "cell_type": "code",
   "execution_count": 61,
   "id": "30b26dc0-d6ef-4c2c-9689-327154745b10",
   "metadata": {},
   "outputs": [
    {
     "data": {
      "text/plain": [
       "array([[31, 38, 11, 29, 29, 14],\n",
       "       [32, 10, 32, 13, 26, 39]])"
      ]
     },
     "execution_count": 61,
     "metadata": {},
     "output_type": "execute_result"
    }
   ],
   "source": [
    "b[1:3]"
   ]
  },
  {
   "cell_type": "code",
   "execution_count": 62,
   "id": "3c28056f-c2ad-4c4a-b5a4-80aa7a233993",
   "metadata": {},
   "outputs": [
    {
     "data": {
      "text/plain": [
       "11"
      ]
     },
     "execution_count": 62,
     "metadata": {},
     "output_type": "execute_result"
    }
   ],
   "source": [
    "b[1,2] # 1 means index see above output\n",
    "       # 2 means (2nd index value in 1 index)"
   ]
  },
  {
   "cell_type": "code",
   "execution_count": 63,
   "id": "ab4ca188-6acd-479f-a554-8ed41e3854f5",
   "metadata": {},
   "outputs": [
    {
     "data": {
      "text/plain": [
       "29"
      ]
     },
     "execution_count": 63,
     "metadata": {},
     "output_type": "execute_result"
    }
   ],
   "source": [
    "b[1,3]"
   ]
  },
  {
   "cell_type": "code",
   "execution_count": 64,
   "id": "f7423b97-15c9-421b-bf25-4375a604b189",
   "metadata": {},
   "outputs": [
    {
     "data": {
      "text/plain": [
       "array([[32, 10, 32, 13, 26, 39]])"
      ]
     },
     "execution_count": 64,
     "metadata": {},
     "output_type": "execute_result"
    }
   ],
   "source": [
    "b[2:3]"
   ]
  },
  {
   "cell_type": "code",
   "execution_count": 65,
   "id": "ba6aa11a-5902-4a8c-8e0d-de62c92c4c3b",
   "metadata": {},
   "outputs": [
    {
     "data": {
      "text/plain": [
       "array([[32, 22, 26, 29, 31, 12],\n",
       "       [31, 38, 11, 29, 29, 14],\n",
       "       [32, 10, 32, 13, 26, 39]])"
      ]
     },
     "execution_count": 65,
     "metadata": {},
     "output_type": "execute_result"
    }
   ],
   "source": [
    "b[0:-2] # -2 means removes last 2 rows"
   ]
  },
  {
   "cell_type": "code",
   "execution_count": 66,
   "id": "033a38e2-6002-4e32-8ac1-8ed4b902cb11",
   "metadata": {},
   "outputs": [
    {
     "data": {
      "text/plain": [
       "array([[32, 22, 26, 29, 31, 12],\n",
       "       [31, 38, 11, 29, 29, 14]])"
      ]
     },
     "execution_count": 66,
     "metadata": {},
     "output_type": "execute_result"
    }
   ],
   "source": [
    "b[0:-3] #-3 means removes last 3 rows"
   ]
  },
  {
   "cell_type": "code",
   "execution_count": 67,
   "id": "160ca8df-1813-46f8-af73-5c3071a873b0",
   "metadata": {},
   "outputs": [
    {
     "data": {
      "text/plain": [
       "array([[32, 22, 26, 29, 31, 12]])"
      ]
     },
     "execution_count": 67,
     "metadata": {},
     "output_type": "execute_result"
    }
   ],
   "source": [
    "b[0:-4] #-4 means removes last 4 rows"
   ]
  },
  {
   "cell_type": "code",
   "execution_count": 68,
   "id": "9a2f06f4-8522-47ee-8f52-58f5ef311dea",
   "metadata": {},
   "outputs": [
    {
     "data": {
      "text/plain": [
       "array([[32, 22, 26, 29, 31, 12],\n",
       "       [31, 38, 11, 29, 29, 14]])"
      ]
     },
     "execution_count": 68,
     "metadata": {},
     "output_type": "execute_result"
    }
   ],
   "source": [
    "b[-5:-3]"
   ]
  },
  {
   "cell_type": "markdown",
   "id": "7e0ddcff-f15e-4c58-b423-a9f0831bae47",
   "metadata": {},
   "source": [
    "# OPERATIONS"
   ]
  },
  {
   "cell_type": "code",
   "execution_count": 69,
   "id": "0e79ae4f-20a2-4607-bb1d-18a535ad28dd",
   "metadata": {},
   "outputs": [
    {
     "data": {
      "text/plain": [
       "array([15, 17, 10, 12, 18, 10, 11, 18, 16, 17])"
      ]
     },
     "execution_count": 69,
     "metadata": {},
     "output_type": "execute_result"
    }
   ],
   "source": [
    "a = np.random.randint(10,20,10)\n",
    "a# 5 rows and 6 columns"
   ]
  },
  {
   "cell_type": "code",
   "execution_count": 70,
   "id": "976d4b69-807b-433a-8694-8a82bf250885",
   "metadata": {},
   "outputs": [
    {
     "data": {
      "text/plain": [
       "2436879942160"
      ]
     },
     "execution_count": 70,
     "metadata": {},
     "output_type": "execute_result"
    }
   ],
   "source": [
    "id(a) # memory location address of variable a"
   ]
  },
  {
   "cell_type": "code",
   "execution_count": 71,
   "id": "1fc19102-f05f-4dcc-a08c-04b1b5aff8e3",
   "metadata": {},
   "outputs": [
    {
     "data": {
      "text/plain": [
       "array([[53, 43, 73, 18, 88, 40, 99, 74, 71, 87],\n",
       "       [42,  6,  5, 67, 86, 55, 93, 68, 90, 33],\n",
       "       [13, 56, 20, 59, 82, 20,  8, 71, 97, 11],\n",
       "       [59, 49, 84, 77, 73, 67, 17, 73, 22, 82],\n",
       "       [39, 58, 97, 74,  9, 29, 78, 78, 26, 88],\n",
       "       [56, 87, 38, 54,  2, 56, 13, 82, 22, 65],\n",
       "       [43, 26, 37, 21, 53, 82, 38, 50, 94, 97],\n",
       "       [30, 92, 28, 99,  3, 69, 47, 64, 33, 55],\n",
       "       [79, 49, 90, 16, 75, 31, 74, 91,  5, 16],\n",
       "       [94, 71, 91, 43,  8, 11, 16, 16, 23, 37]])"
      ]
     },
     "execution_count": 71,
     "metadata": {},
     "output_type": "execute_result"
    }
   ],
   "source": [
    "arr2 = np.random.randint(0,100,(10,10)) \n",
    "arr2\n",
    "# 10 into 10 matrix with random numbers from 0 to 99"
   ]
  },
  {
   "cell_type": "code",
   "execution_count": 72,
   "id": "448f423c-2872-40b1-9b6c-66491cfbbcbf",
   "metadata": {},
   "outputs": [
    {
     "data": {
      "text/plain": [
       "array([[53, 43, 73, 18, 88, 40, 99, 74, 71, 87],\n",
       "       [42,  6,  5, 67, 86, 55, 93, 68, 90, 33],\n",
       "       [13, 56, 20, 59, 82, 20,  8, 71, 97, 11],\n",
       "       [59, 49, 84, 77, 73, 67, 17, 73, 22, 82],\n",
       "       [39, 58, 97, 74,  9, 29, 78, 78, 26, 88],\n",
       "       [56, 87, 38, 54,  2, 56, 13, 82, 22, 65],\n",
       "       [43, 26, 37, 21, 53, 82, 38, 50, 94, 97],\n",
       "       [30, 92, 28, 99,  3, 69, 47, 64, 33, 55],\n",
       "       [79, 49, 90, 16, 75, 31, 74, 91,  5, 16],\n",
       "       [94, 71, 91, 43,  8, 11, 16, 16, 23, 37]])"
      ]
     },
     "execution_count": 72,
     "metadata": {},
     "output_type": "execute_result"
    }
   ],
   "source": [
    "arr2[:]"
   ]
  },
  {
   "cell_type": "code",
   "execution_count": 73,
   "id": "cd0746e6-bfd1-4c3e-8623-3c5b94b7b2d7",
   "metadata": {},
   "outputs": [
    {
     "data": {
      "text/plain": [
       "array([[56, 87, 38, 54,  2, 56, 13, 82, 22, 65],\n",
       "       [43, 26, 37, 21, 53, 82, 38, 50, 94, 97]])"
      ]
     },
     "execution_count": 73,
     "metadata": {},
     "output_type": "execute_result"
    }
   ],
   "source": [
    "arr2[-5:-3]"
   ]
  },
  {
   "cell_type": "code",
   "execution_count": 74,
   "id": "42c3bf71-aba7-4b44-889e-5a7290bf2bd5",
   "metadata": {},
   "outputs": [
    {
     "data": {
      "text/plain": [
       "array([[13, 56, 20, 59, 82, 20,  8, 71, 97, 11],\n",
       "       [59, 49, 84, 77, 73, 67, 17, 73, 22, 82],\n",
       "       [39, 58, 97, 74,  9, 29, 78, 78, 26, 88],\n",
       "       [56, 87, 38, 54,  2, 56, 13, 82, 22, 65]])"
      ]
     },
     "execution_count": 74,
     "metadata": {},
     "output_type": "execute_result"
    }
   ],
   "source": [
    "arr2[-8:-4]"
   ]
  },
  {
   "cell_type": "code",
   "execution_count": 75,
   "id": "fae6689e-ed13-4a6c-9dc4-4060e404674f",
   "metadata": {},
   "outputs": [
    {
     "data": {
      "text/plain": [
       "array([[42,  6,  5, 67, 86, 55, 93, 68, 90, 33],\n",
       "       [13, 56, 20, 59, 82, 20,  8, 71, 97, 11],\n",
       "       [59, 49, 84, 77, 73, 67, 17, 73, 22, 82]])"
      ]
     },
     "execution_count": 75,
     "metadata": {},
     "output_type": "execute_result"
    }
   ],
   "source": [
    "arr2[-9:4]"
   ]
  },
  {
   "cell_type": "code",
   "execution_count": 76,
   "id": "cc4dcb0b-46a7-40f9-9bd0-5a8bfdb0b9cf",
   "metadata": {},
   "outputs": [
    {
     "data": {
      "text/plain": [
       "array([[53, 43, 73, 18, 88, 40, 99, 74, 71, 87],\n",
       "       [42,  6,  5, 67, 86, 55, 93, 68, 90, 33],\n",
       "       [13, 56, 20, 59, 82, 20,  8, 71, 97, 11],\n",
       "       [59, 49, 84, 77, 73, 67, 17, 73, 22, 82],\n",
       "       [39, 58, 97, 74,  9, 29, 78, 78, 26, 88],\n",
       "       [56, 87, 38, 54,  2, 56, 13, 82, 22, 65],\n",
       "       [43, 26, 37, 21, 53, 82, 38, 50, 94, 97],\n",
       "       [30, 92, 28, 99,  3, 69, 47, 64, 33, 55],\n",
       "       [79, 49, 90, 16, 75, 31, 74, 91,  5, 16],\n",
       "       [94, 71, 91, 43,  8, 11, 16, 16, 23, 37]])"
      ]
     },
     "execution_count": 76,
     "metadata": {},
     "output_type": "execute_result"
    }
   ],
   "source": [
    "arr2[::]"
   ]
  },
  {
   "cell_type": "code",
   "execution_count": 77,
   "id": "d7ec22b2-956d-458f-a991-ddf78c80c1a3",
   "metadata": {},
   "outputs": [
    {
     "data": {
      "text/plain": [
       "array([[94, 71, 91, 43,  8, 11, 16, 16, 23, 37],\n",
       "       [79, 49, 90, 16, 75, 31, 74, 91,  5, 16],\n",
       "       [30, 92, 28, 99,  3, 69, 47, 64, 33, 55],\n",
       "       [43, 26, 37, 21, 53, 82, 38, 50, 94, 97],\n",
       "       [56, 87, 38, 54,  2, 56, 13, 82, 22, 65],\n",
       "       [39, 58, 97, 74,  9, 29, 78, 78, 26, 88],\n",
       "       [59, 49, 84, 77, 73, 67, 17, 73, 22, 82],\n",
       "       [13, 56, 20, 59, 82, 20,  8, 71, 97, 11],\n",
       "       [42,  6,  5, 67, 86, 55, 93, 68, 90, 33],\n",
       "       [53, 43, 73, 18, 88, 40, 99, 74, 71, 87]])"
      ]
     },
     "execution_count": 77,
     "metadata": {},
     "output_type": "execute_result"
    }
   ],
   "source": [
    "arr2[::-1] # reverse slicing"
   ]
  },
  {
   "cell_type": "code",
   "execution_count": 78,
   "id": "dd74e07c-d5f9-4294-ad19-05bc42950cd7",
   "metadata": {},
   "outputs": [
    {
     "data": {
      "text/plain": [
       "array([[94, 71, 91, 43,  8, 11, 16, 16, 23, 37],\n",
       "       [43, 26, 37, 21, 53, 82, 38, 50, 94, 97],\n",
       "       [59, 49, 84, 77, 73, 67, 17, 73, 22, 82],\n",
       "       [53, 43, 73, 18, 88, 40, 99, 74, 71, 87]])"
      ]
     },
     "execution_count": 78,
     "metadata": {},
     "output_type": "execute_result"
    }
   ],
   "source": [
    "arr2[::-3] "
   ]
  },
  {
   "cell_type": "code",
   "execution_count": 79,
   "id": "8496a6c1-31b0-42d9-97d6-2a174692d8c6",
   "metadata": {},
   "outputs": [
    {
     "data": {
      "text/plain": [
       "array([0, 1, 2, 3, 4, 5])"
      ]
     },
     "execution_count": 79,
     "metadata": {},
     "output_type": "execute_result"
    }
   ],
   "source": [
    "arr"
   ]
  },
  {
   "cell_type": "code",
   "execution_count": 80,
   "id": "0379826f-dea8-4f9f-b1bc-722d56a4f5bb",
   "metadata": {},
   "outputs": [
    {
     "data": {
      "text/plain": [
       "5"
      ]
     },
     "execution_count": 80,
     "metadata": {},
     "output_type": "execute_result"
    }
   ],
   "source": [
    "arr.max() # MAXIMUM VALUE"
   ]
  },
  {
   "cell_type": "code",
   "execution_count": 81,
   "id": "5f1fd98a-57a0-4539-a3f3-6334714a82ef",
   "metadata": {},
   "outputs": [
    {
     "data": {
      "text/plain": [
       "0"
      ]
     },
     "execution_count": 81,
     "metadata": {},
     "output_type": "execute_result"
    }
   ],
   "source": [
    "arr.min() # MINIMMUM VALUE"
   ]
  },
  {
   "cell_type": "code",
   "execution_count": 82,
   "id": "0fa3eabb-84fc-4ccf-bf4d-3386a8c7fa0c",
   "metadata": {},
   "outputs": [
    {
     "data": {
      "text/plain": [
       "2.5"
      ]
     },
     "execution_count": 82,
     "metadata": {},
     "output_type": "execute_result"
    }
   ],
   "source": [
    "arr.mean()  # MEAN VALUE  (average value)"
   ]
  },
  {
   "cell_type": "code",
   "execution_count": 83,
   "id": "5a3c3851-f3b1-4efb-8303-34f98dbcbeb4",
   "metadata": {},
   "outputs": [
    {
     "ename": "AttributeError",
     "evalue": "'numpy.ndarray' object has no attribute 'median'",
     "output_type": "error",
     "traceback": [
      "\u001b[1;31m---------------------------------------------------------------------------\u001b[0m",
      "\u001b[1;31mAttributeError\u001b[0m                            Traceback (most recent call last)",
      "Cell \u001b[1;32mIn[83], line 1\u001b[0m\n\u001b[1;32m----> 1\u001b[0m arr\u001b[38;5;241m.\u001b[39mmedian()\n",
      "\u001b[1;31mAttributeError\u001b[0m: 'numpy.ndarray' object has no attribute 'median'"
     ]
    }
   ],
   "source": [
    "arr.median() # MEDIAN VALUE"
   ]
  },
  {
   "cell_type": "markdown",
   "id": "894e2fc9-42fa-43ce-94ff-f1ac1360ad39",
   "metadata": {},
   "source": [
    "- ####  The above output is showing error because median is not exit in  the in-built funtion in numpy\n",
    "\n",
    "- ####  To execute median we need to import `Median`, see below"
   ]
  },
  {
   "cell_type": "code",
   "execution_count": 84,
   "id": "e56d95f1-073f-442f-990c-431e5a674d45",
   "metadata": {},
   "outputs": [
    {
     "data": {
      "text/plain": [
       "3.0"
      ]
     },
     "execution_count": 84,
     "metadata": {},
     "output_type": "execute_result"
    }
   ],
   "source": [
    "from numpy import * \n",
    "a = array([1,2,3,4,9])\n",
    "median(a)\n",
    "# star means it will import all the 217 function in numpy to fit the code.\n"
   ]
  },
  {
   "cell_type": "code",
   "execution_count": 85,
   "id": "b75343d2-da10-4b28-9974-471a603b2c1e",
   "metadata": {},
   "outputs": [
    {
     "data": {
      "text/plain": [
       "array([0, 1, 2, 3, 4, 5])"
      ]
     },
     "execution_count": 85,
     "metadata": {},
     "output_type": "execute_result"
    }
   ],
   "source": [
    "arr"
   ]
  },
  {
   "cell_type": "code",
   "execution_count": 86,
   "id": "6c756be5-3156-403e-9560-78d47569161e",
   "metadata": {},
   "outputs": [
    {
     "data": {
      "text/plain": [
       "array([[0, 1],\n",
       "       [2, 3],\n",
       "       [4, 5]])"
      ]
     },
     "execution_count": 86,
     "metadata": {},
     "output_type": "execute_result"
    }
   ],
   "source": [
    "arr.reshape(3,2) #  reshaping 3 in to 2 matrix"
   ]
  },
  {
   "cell_type": "code",
   "execution_count": 87,
   "id": "279cc483-cf71-416a-80d0-691816bf9383",
   "metadata": {},
   "outputs": [
    {
     "data": {
      "text/plain": [
       "array([[0],\n",
       "       [1],\n",
       "       [2],\n",
       "       [3],\n",
       "       [4],\n",
       "       [5]])"
      ]
     },
     "execution_count": 87,
     "metadata": {},
     "output_type": "execute_result"
    }
   ],
   "source": [
    "arr.reshape(6,1) # 6 rows and 1 columns matrix"
   ]
  },
  {
   "cell_type": "code",
   "execution_count": 88,
   "id": "4a785d38-5473-479f-ad02-8166425419cd",
   "metadata": {},
   "outputs": [
    {
     "ename": "ValueError",
     "evalue": "cannot reshape array of size 6 into shape (4,2)",
     "output_type": "error",
     "traceback": [
      "\u001b[1;31m---------------------------------------------------------------------------\u001b[0m",
      "\u001b[1;31mValueError\u001b[0m                                Traceback (most recent call last)",
      "Cell \u001b[1;32mIn[88], line 1\u001b[0m\n\u001b[1;32m----> 1\u001b[0m arr\u001b[38;5;241m.\u001b[39mreshape(\u001b[38;5;241m4\u001b[39m,\u001b[38;5;241m2\u001b[39m)\n",
      "\u001b[1;31mValueError\u001b[0m: cannot reshape array of size 6 into shape (4,2)"
     ]
    }
   ],
   "source": [
    "arr.reshape(4,2) "
   ]
  },
  {
   "cell_type": "markdown",
   "id": "65a2d6a5-763d-4688-92c8-329dc0d2e033",
   "metadata": {},
   "source": [
    "- #### The reshape only will happen when it fits to its rows and columns\n",
    "\n",
    "- #### The above output showing as error because, the total elements from 0 to 5 is 6, but in the above reshape code we have mention 4 into 2 matrix whic is 8   that is not possible\n"
   ]
  },
  {
   "cell_type": "code",
   "execution_count": 89,
   "id": "2fbf4c74-2c3f-42f7-aa18-a27f3121e43c",
   "metadata": {},
   "outputs": [],
   "source": [
    "# reshape orders (C,F,A)"
   ]
  },
  {
   "cell_type": "code",
   "execution_count": 90,
   "id": "6817df2e-afe7-4827-a8f5-42d909216c45",
   "metadata": {},
   "outputs": [
    {
     "data": {
      "text/plain": [
       "array([0, 1, 2, 3, 4, 5])"
      ]
     },
     "execution_count": 90,
     "metadata": {},
     "output_type": "execute_result"
    }
   ],
   "source": [
    "arr"
   ]
  },
  {
   "cell_type": "code",
   "execution_count": 91,
   "id": "fbf1d886-3ddb-4cc1-8186-bbc43e8fff8c",
   "metadata": {},
   "outputs": [
    {
     "data": {
      "text/plain": [
       "array([[0, 1, 2],\n",
       "       [3, 4, 5]])"
      ]
     },
     "execution_count": 91,
     "metadata": {},
     "output_type": "execute_result"
    }
   ],
   "source": [
    "arr.reshape(2,3,order ='C')  # "
   ]
  },
  {
   "cell_type": "code",
   "execution_count": 92,
   "id": "6850d927-ab7e-43ff-93ea-3ad72191f3dc",
   "metadata": {},
   "outputs": [
    {
     "data": {
      "text/plain": [
       "array([[0, 2, 4],\n",
       "       [1, 3, 5]])"
      ]
     },
     "execution_count": 92,
     "metadata": {},
     "output_type": "execute_result"
    }
   ],
   "source": [
    "arr.reshape(2,3,order ='F') # F means it will shuffle rows to columns and columns to rows"
   ]
  },
  {
   "cell_type": "code",
   "execution_count": 93,
   "id": "be3d4162-370a-48b1-bffc-5a3bd1ea8a76",
   "metadata": {},
   "outputs": [
    {
     "data": {
      "text/plain": [
       "array([[0, 1, 2],\n",
       "       [3, 4, 5]])"
      ]
     },
     "execution_count": 93,
     "metadata": {},
     "output_type": "execute_result"
    }
   ],
   "source": [
    "arr.reshape(2,3,order ='A') "
   ]
  },
  {
   "cell_type": "markdown",
   "id": "adaf201f-e59d-487c-8283-407c07fe432a",
   "metadata": {},
   "source": [
    "# INDEXING"
   ]
  },
  {
   "cell_type": "code",
   "execution_count": 94,
   "id": "e28706f6-717b-46e2-89d1-3e68a2df9049",
   "metadata": {},
   "outputs": [
    {
     "data": {
      "text/plain": [
       "array([[ 0,  1,  2,  3,  4,  5,  6,  7,  8,  9],\n",
       "       [10, 11, 12, 13, 14, 15, 16, 17, 18, 19],\n",
       "       [20, 21, 22, 23, 24, 25, 26, 27, 28, 29],\n",
       "       [30, 31, 32, 33, 34, 35, 36, 37, 38, 39],\n",
       "       [40, 41, 42, 43, 44, 45, 46, 47, 48, 49],\n",
       "       [50, 51, 52, 53, 54, 55, 56, 57, 58, 59],\n",
       "       [60, 61, 62, 63, 64, 65, 66, 67, 68, 69],\n",
       "       [70, 71, 72, 73, 74, 75, 76, 77, 78, 79],\n",
       "       [80, 81, 82, 83, 84, 85, 86, 87, 88, 89],\n",
       "       [90, 91, 92, 93, 94, 95, 96, 97, 98, 99]])"
      ]
     },
     "execution_count": 94,
     "metadata": {},
     "output_type": "execute_result"
    }
   ],
   "source": [
    "mat = np.arange(0,100).reshape(10,10) \n",
    "mat"
   ]
  },
  {
   "cell_type": "code",
   "execution_count": 95,
   "id": "1f69b39a-2722-4a17-b53e-b3874414bcb0",
   "metadata": {},
   "outputs": [],
   "source": [
    "row = 4\n",
    "col = 5"
   ]
  },
  {
   "cell_type": "code",
   "execution_count": 96,
   "id": "06a084ee-42ff-4ef2-966d-393c300b82bb",
   "metadata": {},
   "outputs": [
    {
     "data": {
      "text/plain": [
       "5"
      ]
     },
     "execution_count": 96,
     "metadata": {},
     "output_type": "execute_result"
    }
   ],
   "source": [
    "col "
   ]
  },
  {
   "cell_type": "code",
   "execution_count": 97,
   "id": "63b8fe0d-9e2b-4b8c-80d1-19b06b9746b7",
   "metadata": {},
   "outputs": [
    {
     "data": {
      "text/plain": [
       "4"
      ]
     },
     "execution_count": 97,
     "metadata": {},
     "output_type": "execute_result"
    }
   ],
   "source": [
    "row"
   ]
  },
  {
   "cell_type": "code",
   "execution_count": 98,
   "id": "107a7093-ae93-40ad-8e71-5f52c93ec98c",
   "metadata": {},
   "outputs": [
    {
     "data": {
      "text/plain": [
       "array([[ 0,  1,  2,  3,  4,  5,  6,  7,  8,  9],\n",
       "       [10, 11, 12, 13, 14, 15, 16, 17, 18, 19],\n",
       "       [20, 21, 22, 23, 24, 25, 26, 27, 28, 29],\n",
       "       [30, 31, 32, 33, 34, 35, 36, 37, 38, 39],\n",
       "       [40, 41, 42, 43, 44, 45, 46, 47, 48, 49],\n",
       "       [50, 51, 52, 53, 54, 55, 56, 57, 58, 59],\n",
       "       [60, 61, 62, 63, 64, 65, 66, 67, 68, 69],\n",
       "       [70, 71, 72, 73, 74, 75, 76, 77, 78, 79],\n",
       "       [80, 81, 82, 83, 84, 85, 86, 87, 88, 89],\n",
       "       [90, 91, 92, 93, 94, 95, 96, 97, 98, 99]])"
      ]
     },
     "execution_count": 98,
     "metadata": {},
     "output_type": "execute_result"
    }
   ],
   "source": [
    "mat"
   ]
  },
  {
   "cell_type": "code",
   "execution_count": 99,
   "id": "c773b2f0-02be-4521-a947-77b4dc833b1b",
   "metadata": {},
   "outputs": [
    {
     "data": {
      "text/plain": [
       "45"
      ]
     },
     "execution_count": 99,
     "metadata": {},
     "output_type": "execute_result"
    }
   ],
   "source": [
    "mat[row,col] # check 4th row and 5th colun"
   ]
  },
  {
   "cell_type": "code",
   "execution_count": 100,
   "id": "139e27b7-9489-47ba-b2b3-1102e2ef0a0a",
   "metadata": {},
   "outputs": [
    {
     "data": {
      "text/plain": [
       "45"
      ]
     },
     "execution_count": 100,
     "metadata": {},
     "output_type": "execute_result"
    }
   ],
   "source": [
    "mat[4,5]"
   ]
  },
  {
   "cell_type": "code",
   "execution_count": 101,
   "id": "f5294136-3507-4ab0-9750-88b2ea7a558c",
   "metadata": {},
   "outputs": [
    {
     "data": {
      "text/plain": [
       "68"
      ]
     },
     "execution_count": 101,
     "metadata": {},
     "output_type": "execute_result"
    }
   ],
   "source": [
    "mat[6,8] # give any row and column index"
   ]
  },
  {
   "cell_type": "code",
   "execution_count": 102,
   "id": "50637cad-ad0e-420e-92a9-949d6db952f6",
   "metadata": {},
   "outputs": [
    {
     "data": {
      "text/plain": [
       "array([[ 0,  1,  2,  3,  4,  5,  6,  7,  8,  9],\n",
       "       [10, 11, 12, 13, 14, 15, 16, 17, 18, 19],\n",
       "       [20, 21, 22, 23, 24, 25, 26, 27, 28, 29],\n",
       "       [30, 31, 32, 33, 34, 35, 36, 37, 38, 39],\n",
       "       [40, 41, 42, 43, 44, 45, 46, 47, 48, 49],\n",
       "       [50, 51, 52, 53, 54, 55, 56, 57, 58, 59],\n",
       "       [60, 61, 62, 63, 64, 65, 66, 67, 68, 69],\n",
       "       [70, 71, 72, 73, 74, 75, 76, 77, 78, 79],\n",
       "       [80, 81, 82, 83, 84, 85, 86, 87, 88, 89],\n",
       "       [90, 91, 92, 93, 94, 95, 96, 97, 98, 99]])"
      ]
     },
     "execution_count": 102,
     "metadata": {},
     "output_type": "execute_result"
    }
   ],
   "source": [
    "mat[0:10]"
   ]
  },
  {
   "cell_type": "code",
   "execution_count": 103,
   "id": "bf238541-0e7d-4c96-b4f5-7011d8e35a61",
   "metadata": {},
   "outputs": [
    {
     "data": {
      "text/plain": [
       "array([[ 0,  1,  2,  3,  4,  5,  6,  7,  8,  9],\n",
       "       [30, 31, 32, 33, 34, 35, 36, 37, 38, 39],\n",
       "       [60, 61, 62, 63, 64, 65, 66, 67, 68, 69],\n",
       "       [90, 91, 92, 93, 94, 95, 96, 97, 98, 99]])"
      ]
     },
     "execution_count": 103,
     "metadata": {},
     "output_type": "execute_result"
    }
   ],
   "source": [
    "mat[0:10:3]"
   ]
  },
  {
   "cell_type": "code",
   "execution_count": 104,
   "id": "f5c4da50-218c-4466-b46d-4fbe576c0f1d",
   "metadata": {},
   "outputs": [
    {
     "data": {
      "text/plain": [
       "array([[ 0,  1,  2,  3,  4,  5,  6,  7,  8,  9],\n",
       "       [40, 41, 42, 43, 44, 45, 46, 47, 48, 49],\n",
       "       [80, 81, 82, 83, 84, 85, 86, 87, 88, 89]])"
      ]
     },
     "execution_count": 104,
     "metadata": {},
     "output_type": "execute_result"
    }
   ],
   "source": [
    "mat[0:10:4]"
   ]
  },
  {
   "cell_type": "code",
   "execution_count": 105,
   "id": "b4c1ef7a-7723-4f57-86b2-80b386022d38",
   "metadata": {},
   "outputs": [
    {
     "data": {
      "text/plain": [
       "array([[ 0,  1,  2,  3,  4,  5,  6,  7,  8,  9],\n",
       "       [10, 11, 12, 13, 14, 15, 16, 17, 18, 19],\n",
       "       [20, 21, 22, 23, 24, 25, 26, 27, 28, 29],\n",
       "       [30, 31, 32, 33, 34, 35, 36, 37, 38, 39]])"
      ]
     },
     "execution_count": 105,
     "metadata": {},
     "output_type": "execute_result"
    }
   ],
   "source": [
    "mat[:4]"
   ]
  },
  {
   "cell_type": "code",
   "execution_count": 106,
   "id": "5dc6c59f-b88d-48c9-b477-c47fbd6578f5",
   "metadata": {},
   "outputs": [
    {
     "data": {
      "text/plain": [
       "array([[90, 91, 92, 93, 94, 95, 96, 97, 98, 99],\n",
       "       [80, 81, 82, 83, 84, 85, 86, 87, 88, 89],\n",
       "       [70, 71, 72, 73, 74, 75, 76, 77, 78, 79],\n",
       "       [60, 61, 62, 63, 64, 65, 66, 67, 68, 69],\n",
       "       [50, 51, 52, 53, 54, 55, 56, 57, 58, 59],\n",
       "       [40, 41, 42, 43, 44, 45, 46, 47, 48, 49],\n",
       "       [30, 31, 32, 33, 34, 35, 36, 37, 38, 39],\n",
       "       [20, 21, 22, 23, 24, 25, 26, 27, 28, 29],\n",
       "       [10, 11, 12, 13, 14, 15, 16, 17, 18, 19],\n",
       "       [ 0,  1,  2,  3,  4,  5,  6,  7,  8,  9]])"
      ]
     },
     "execution_count": 106,
     "metadata": {},
     "output_type": "execute_result"
    }
   ],
   "source": [
    "mat[::-1]"
   ]
  },
  {
   "cell_type": "code",
   "execution_count": 107,
   "id": "1b298cdc-7a78-4090-a047-d1541fb7aeb8",
   "metadata": {},
   "outputs": [
    {
     "data": {
      "text/plain": [
       "array([[90, 91, 92, 93, 94, 95, 96, 97, 98, 99],\n",
       "       [70, 71, 72, 73, 74, 75, 76, 77, 78, 79],\n",
       "       [50, 51, 52, 53, 54, 55, 56, 57, 58, 59],\n",
       "       [30, 31, 32, 33, 34, 35, 36, 37, 38, 39],\n",
       "       [10, 11, 12, 13, 14, 15, 16, 17, 18, 19]])"
      ]
     },
     "execution_count": 107,
     "metadata": {},
     "output_type": "execute_result"
    }
   ],
   "source": [
    "mat[::-2] # two semi-colums means reverse ans -2 means step"
   ]
  },
  {
   "cell_type": "code",
   "execution_count": 108,
   "id": "b52ac299-946c-49f9-b4d1-1d1ecab0b42c",
   "metadata": {},
   "outputs": [
    {
     "data": {
      "text/plain": [
       "array([[90, 91, 92, 93, 94, 95, 96, 97, 98, 99],\n",
       "       [50, 51, 52, 53, 54, 55, 56, 57, 58, 59],\n",
       "       [10, 11, 12, 13, 14, 15, 16, 17, 18, 19]])"
      ]
     },
     "execution_count": 108,
     "metadata": {},
     "output_type": "execute_result"
    }
   ],
   "source": [
    "mat[::-4]"
   ]
  },
  {
   "cell_type": "markdown",
   "id": "30b6594e-413c-4f1a-b93c-265e08b3e052",
   "metadata": {},
   "source": [
    "# SLICING IN MATRIX"
   ]
  },
  {
   "cell_type": "code",
   "execution_count": 109,
   "id": "7f44ccb9-7174-4ea6-8d2b-6a4c0094ebab",
   "metadata": {},
   "outputs": [
    {
     "data": {
      "text/plain": [
       "array([[ 0,  1,  2,  3,  4,  5,  6,  7,  8,  9],\n",
       "       [10, 11, 12, 13, 14, 15, 16, 17, 18, 19],\n",
       "       [20, 21, 22, 23, 24, 25, 26, 27, 28, 29],\n",
       "       [30, 31, 32, 33, 34, 35, 36, 37, 38, 39],\n",
       "       [40, 41, 42, 43, 44, 45, 46, 47, 48, 49],\n",
       "       [50, 51, 52, 53, 54, 55, 56, 57, 58, 59],\n",
       "       [60, 61, 62, 63, 64, 65, 66, 67, 68, 69],\n",
       "       [70, 71, 72, 73, 74, 75, 76, 77, 78, 79],\n",
       "       [80, 81, 82, 83, 84, 85, 86, 87, 88, 89],\n",
       "       [90, 91, 92, 93, 94, 95, 96, 97, 98, 99]])"
      ]
     },
     "execution_count": 109,
     "metadata": {},
     "output_type": "execute_result"
    }
   ],
   "source": [
    "mat"
   ]
  },
  {
   "cell_type": "code",
   "execution_count": 110,
   "id": "d01fdf05-c7df-4ac5-a7c7-ac92a7fdae8a",
   "metadata": {},
   "outputs": [
    {
     "name": "stdout",
     "output_type": "stream",
     "text": [
      "(0, array([0, 1, 2, 3, 4, 5, 6, 7, 8, 9]))\n",
      "(1, array([10, 11, 12, 13, 14, 15, 16, 17, 18, 19]))\n",
      "(2, array([20, 21, 22, 23, 24, 25, 26, 27, 28, 29]))\n",
      "(3, array([30, 31, 32, 33, 34, 35, 36, 37, 38, 39]))\n",
      "(4, array([40, 41, 42, 43, 44, 45, 46, 47, 48, 49]))\n",
      "(5, array([50, 51, 52, 53, 54, 55, 56, 57, 58, 59]))\n",
      "(6, array([60, 61, 62, 63, 64, 65, 66, 67, 68, 69]))\n",
      "(7, array([70, 71, 72, 73, 74, 75, 76, 77, 78, 79]))\n",
      "(8, array([80, 81, 82, 83, 84, 85, 86, 87, 88, 89]))\n",
      "(9, array([90, 91, 92, 93, 94, 95, 96, 97, 98, 99]))\n"
     ]
    }
   ],
   "source": [
    "for i in enumerate (mat):\n",
    "    print(i)"
   ]
  },
  {
   "cell_type": "code",
   "execution_count": 111,
   "id": "4948aa3e-ee9a-434f-9d84-bb20c7014f82",
   "metadata": {},
   "outputs": [
    {
     "data": {
      "text/plain": [
       "array([[22, 23],\n",
       "       [32, 33],\n",
       "       [42, 43],\n",
       "       [52, 53]])"
      ]
     },
     "execution_count": 111,
     "metadata": {},
     "output_type": "execute_result"
    }
   ],
   "source": [
    "mat[2:6,2:4]"
   ]
  },
  {
   "cell_type": "markdown",
   "id": "2722e68d-f9e0-4fe2-969c-49643c608cc8",
   "metadata": {},
   "source": [
    "#### The above output showing result as follows\n",
    "   - 2:6 means row form 2nd index to 5th index \n",
    "   - 2:4 means columns from 2nd index to 4th columns\n",
    "\n",
    "##### Note: n-1 is applicable "
   ]
  },
  {
   "cell_type": "code",
   "execution_count": 112,
   "id": "b9dae7db-505d-41bb-a689-7fc4888bd2db",
   "metadata": {},
   "outputs": [
    {
     "data": {
      "text/plain": [
       "array([[53, 54, 55, 56, 57],\n",
       "       [63, 64, 65, 66, 67]])"
      ]
     },
     "execution_count": 112,
     "metadata": {},
     "output_type": "execute_result"
    }
   ],
   "source": [
    "mat[5:7,3:8]"
   ]
  },
  {
   "cell_type": "code",
   "execution_count": 113,
   "id": "7e20a7da-402d-4e10-b5b8-7d0450a1a376",
   "metadata": {},
   "outputs": [
    {
     "data": {
      "text/plain": [
       "1"
      ]
     },
     "execution_count": 113,
     "metadata": {},
     "output_type": "execute_result"
    }
   ],
   "source": [
    "mat[0,1] # 0th index row  and 1st element of the same row"
   ]
  },
  {
   "cell_type": "code",
   "execution_count": 114,
   "id": "07f0b3b4-5b39-4ca5-b260-121a2af42669",
   "metadata": {},
   "outputs": [
    {
     "data": {
      "text/plain": [
       "56"
      ]
     },
     "execution_count": 114,
     "metadata": {},
     "output_type": "execute_result"
    }
   ],
   "source": [
    "mat[5,6] # 5th index row and 6th element of the same row"
   ]
  },
  {
   "cell_type": "code",
   "execution_count": 115,
   "id": "d5f9df50-2287-4e0e-af92-18270aba1361",
   "metadata": {},
   "outputs": [
    {
     "data": {
      "text/plain": [
       "array([[22]])"
      ]
     },
     "execution_count": 115,
     "metadata": {},
     "output_type": "execute_result"
    }
   ],
   "source": [
    "mat[2:3,2:3]"
   ]
  },
  {
   "cell_type": "markdown",
   "id": "632c93b2-dee6-4adf-ae07-81fd46044702",
   "metadata": {},
   "source": [
    "# MASKING (filter)"
   ]
  },
  {
   "cell_type": "code",
   "execution_count": 116,
   "id": "ad21b1c5-0524-4e36-9d81-8d85c5b02582",
   "metadata": {},
   "outputs": [
    {
     "data": {
      "text/plain": [
       "array([[ 0,  1,  2,  3,  4,  5,  6,  7,  8,  9],\n",
       "       [10, 11, 12, 13, 14, 15, 16, 17, 18, 19],\n",
       "       [20, 21, 22, 23, 24, 25, 26, 27, 28, 29],\n",
       "       [30, 31, 32, 33, 34, 35, 36, 37, 38, 39],\n",
       "       [40, 41, 42, 43, 44, 45, 46, 47, 48, 49],\n",
       "       [50, 51, 52, 53, 54, 55, 56, 57, 58, 59],\n",
       "       [60, 61, 62, 63, 64, 65, 66, 67, 68, 69],\n",
       "       [70, 71, 72, 73, 74, 75, 76, 77, 78, 79],\n",
       "       [80, 81, 82, 83, 84, 85, 86, 87, 88, 89],\n",
       "       [90, 91, 92, 93, 94, 95, 96, 97, 98, 99]])"
      ]
     },
     "execution_count": 116,
     "metadata": {},
     "output_type": "execute_result"
    }
   ],
   "source": [
    "mat"
   ]
  },
  {
   "cell_type": "code",
   "execution_count": 117,
   "id": "202dd6bd-f0b1-44b9-9bc0-404b8b961c28",
   "metadata": {},
   "outputs": [
    {
     "data": {
      "text/plain": [
       "2436879951472"
      ]
     },
     "execution_count": 117,
     "metadata": {},
     "output_type": "execute_result"
    }
   ],
   "source": [
    "id(mat)"
   ]
  },
  {
   "cell_type": "code",
   "execution_count": 118,
   "id": "8accc693-e454-48d2-9de2-cc38112b41c0",
   "metadata": {},
   "outputs": [
    {
     "data": {
      "text/plain": [
       "array([[ True,  True,  True,  True,  True,  True,  True,  True,  True,\n",
       "         True],\n",
       "       [ True,  True,  True,  True,  True,  True,  True,  True,  True,\n",
       "         True],\n",
       "       [ True,  True,  True,  True,  True,  True,  True,  True,  True,\n",
       "         True],\n",
       "       [ True,  True,  True,  True,  True,  True,  True,  True,  True,\n",
       "         True],\n",
       "       [ True,  True,  True,  True,  True,  True,  True,  True,  True,\n",
       "         True],\n",
       "       [False, False, False, False, False, False, False, False, False,\n",
       "        False],\n",
       "       [False, False, False, False, False, False, False, False, False,\n",
       "        False],\n",
       "       [False, False, False, False, False, False, False, False, False,\n",
       "        False],\n",
       "       [False, False, False, False, False, False, False, False, False,\n",
       "        False],\n",
       "       [False, False, False, False, False, False, False, False, False,\n",
       "        False]])"
      ]
     },
     "execution_count": 118,
     "metadata": {},
     "output_type": "execute_result"
    }
   ],
   "source": [
    "mat < 50 # to check either  elements below fifty  are less than fifty"
   ]
  },
  {
   "cell_type": "code",
   "execution_count": 119,
   "id": "98bb1557-e018-4f96-a15b-2b15733c150c",
   "metadata": {},
   "outputs": [
    {
     "data": {
      "text/plain": [
       "array([[False, False, False, False, False, False, False, False, False,\n",
       "        False],\n",
       "       [False, False, False, False, False, False, False, False, False,\n",
       "        False],\n",
       "       [False, False, False, False, False, False, False, False, False,\n",
       "        False],\n",
       "       [False, False, False, False, False, False, False, False, False,\n",
       "        False],\n",
       "       [False, False, False, False, False, False, False, False, False,\n",
       "        False],\n",
       "       [False,  True,  True,  True,  True,  True,  True,  True,  True,\n",
       "         True],\n",
       "       [ True,  True,  True,  True,  True,  True,  True,  True,  True,\n",
       "         True],\n",
       "       [ True,  True,  True,  True,  True,  True,  True,  True,  True,\n",
       "         True],\n",
       "       [ True,  True,  True,  True,  True,  True,  True,  True,  True,\n",
       "         True],\n",
       "       [ True,  True,  True,  True,  True,  True,  True,  True,  True,\n",
       "         True]])"
      ]
     },
     "execution_count": 119,
     "metadata": {},
     "output_type": "execute_result"
    }
   ],
   "source": [
    "mat > 50 # to check either  elements after fifty  are greater than fifty"
   ]
  },
  {
   "cell_type": "code",
   "execution_count": 120,
   "id": "02d3535d-9a1a-4ac3-b3ca-a7f241b45c5c",
   "metadata": {},
   "outputs": [
    {
     "data": {
      "text/plain": [
       "array([ 0,  1,  2,  3,  4,  5,  6,  7,  8,  9, 10, 11, 12, 13, 14, 15, 16,\n",
       "       17, 18, 19, 20, 21, 22, 23, 24, 25, 26, 27, 28, 29, 30, 31, 32, 33,\n",
       "       34, 35, 36, 37, 38, 39, 40, 41, 42, 43, 44, 45, 46, 47, 48, 49])"
      ]
     },
     "execution_count": 120,
     "metadata": {},
     "output_type": "execute_result"
    }
   ],
   "source": [
    "mat[mat<50] # to check, what are the elements are below fifty "
   ]
  },
  {
   "cell_type": "code",
   "execution_count": 121,
   "id": "e781afe1-c297-4755-954e-2c4681343349",
   "metadata": {},
   "outputs": [
    {
     "data": {
      "text/plain": [
       "array([51, 52, 53, 54, 55, 56, 57, 58, 59, 60, 61, 62, 63, 64, 65, 66, 67,\n",
       "       68, 69, 70, 71, 72, 73, 74, 75, 76, 77, 78, 79, 80, 81, 82, 83, 84,\n",
       "       85, 86, 87, 88, 89, 90, 91, 92, 93, 94, 95, 96, 97, 98, 99])"
      ]
     },
     "execution_count": 121,
     "metadata": {},
     "output_type": "execute_result"
    }
   ],
   "source": [
    "mat[mat>50] # to check, what are the elements are after fifty "
   ]
  },
  {
   "cell_type": "code",
   "execution_count": 122,
   "id": "ae4452cb-12f5-446b-9444-6a1914fb044d",
   "metadata": {},
   "outputs": [
    {
     "data": {
      "text/plain": [
       "array([50])"
      ]
     },
     "execution_count": 122,
     "metadata": {},
     "output_type": "execute_result"
    }
   ],
   "source": [
    "mat[mat==50] # to check how many smane elemtens are present "
   ]
  },
  {
   "cell_type": "code",
   "execution_count": 123,
   "id": "f5050646-fbbe-4fa1-ae8b-90b9caf2de8b",
   "metadata": {},
   "outputs": [
    {
     "data": {
      "text/plain": [
       "array([ 0,  1,  2,  3,  4,  5,  6,  7,  8,  9, 10, 11, 12, 13, 14, 15, 16,\n",
       "       17, 18, 19, 20, 21, 22, 23, 24, 25, 26, 27, 28, 29, 30, 31, 32, 33,\n",
       "       34, 35, 36, 37, 38, 39, 40, 41, 42, 43, 44, 45, 46, 47, 48, 49, 51,\n",
       "       52, 53, 54, 55, 56, 57, 58, 59, 60, 61, 62, 63, 64, 65, 66, 67, 68,\n",
       "       69, 70, 71, 72, 73, 74, 75, 76, 77, 78, 79, 80, 81, 82, 83, 84, 85,\n",
       "       86, 87, 88, 89, 90, 91, 92, 93, 94, 95, 96, 97, 98, 99])"
      ]
     },
     "execution_count": 123,
     "metadata": {},
     "output_type": "execute_result"
    }
   ],
   "source": [
    "mat[mat!=50] # to check the elemtns which are not 50"
   ]
  },
  {
   "cell_type": "code",
   "execution_count": 124,
   "id": "7b5252a2-ddf2-4c73-aa8b-d87c03dc2e7c",
   "metadata": {},
   "outputs": [
    {
     "data": {
      "text/plain": [
       "array([50, 51, 52, 53, 54, 55, 56, 57, 58, 59, 60, 61, 62, 63, 64, 65, 66,\n",
       "       67, 68, 69, 70, 71, 72, 73, 74, 75, 76, 77, 78, 79, 80, 81, 82, 83,\n",
       "       84, 85, 86, 87, 88, 89, 90, 91, 92, 93, 94, 95, 96, 97, 98, 99])"
      ]
     },
     "execution_count": 124,
     "metadata": {},
     "output_type": "execute_result"
    }
   ],
   "source": [
    "mat[mat>=50]"
   ]
  },
  {
   "cell_type": "markdown",
   "id": "3bf15b15-e1a7-456b-a165-9da82933871c",
   "metadata": {},
   "source": [
    "- ### In python index begins from 0 (left index 0 and righnt index -1)\n",
    "\n",
    "- ### Matrix (2,3) -- 2nd row and 3rd element of same row, it gives only one value\n",
    "\n",
    "- ### n-1 formula is always applicable"
   ]
  },
  {
   "cell_type": "markdown",
   "id": "bb37dbde-6d01-4e86-aa6e-580542fb0399",
   "metadata": {},
   "source": [
    "# END"
   ]
  }
 ],
 "metadata": {
  "kernelspec": {
   "display_name": "Python 3 (ipykernel)",
   "language": "python",
   "name": "python3"
  },
  "language_info": {
   "codemirror_mode": {
    "name": "ipython",
    "version": 3
   },
   "file_extension": ".py",
   "mimetype": "text/x-python",
   "name": "python",
   "nbconvert_exporter": "python",
   "pygments_lexer": "ipython3",
   "version": "3.12.4"
  }
 },
 "nbformat": 4,
 "nbformat_minor": 5
}
